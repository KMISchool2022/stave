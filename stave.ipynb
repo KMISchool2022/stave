{
 "cells": [
  {
   "cell_type": "markdown",
   "id": "07c8edd7",
   "metadata": {},
   "source": [
    "<a href=\"https://colab.research.google.com/github/KMISchool2022/stave/blob/main/stave.ipynb\">\n",
    "<img src=\"https://colab.research.google.com/assets/colab-badge.svg\" alt=\"Open In Colab\">\n",
    "</a>"
   ]
  },
  {
   "cell_type": "code",
   "execution_count": null,
   "id": "d21f156f",
   "metadata": {},
   "outputs": [],
   "source": [
    "!pip install iminuit"
   ]
  },
  {
   "cell_type": "code",
   "execution_count": null,
   "id": "7046e3dd",
   "metadata": {},
   "outputs": [],
   "source": [
    "# stave.py\n",
    "# Computes Student's t average, with the number of degrees of\n",
    "# freedom nu related to the relative uncertainty r in the\n",
    "# standard deviations of the measurements, nu = 1/(2*r**2), see\n",
    "# G. Cowan, Eur. Phys. J. C (2019) 79 :133, arXiv:1809.05778.\n",
    "# Uses iminuit version 2.x (not compatible with v 1.x).\n",
    "# G. Cowan / RHUL Physics / December 2022\n",
    "\n",
    "import numpy as np\n",
    "import scipy.stats as stats\n",
    "from scipy.stats import truncexpon\n",
    "from scipy.stats import truncnorm\n",
    "import iminuit\n",
    "from iminuit import Minuit\n",
    "import matplotlib.pyplot as plt\n",
    "plt.rcParams[\"font.size\"] = 14\n",
    "print(f\"iminuit version: {iminuit.__version__}\")      #  should be v 2.x"
   ]
  },
  {
   "cell_type": "code",
   "execution_count": null,
   "id": "aa82f19d",
   "metadata": {},
   "outputs": [],
   "source": [
    "# Set input values\n",
    "mu = 10.                                  # initial value for fit\n",
    "y = np.array([17., 19., 15., 3.])         # measured values\n",
    "s = np.array([1.5, 1.5, 1.5, 1.5])        # estimates of std. dev\n",
    "v = s**2                                  # estimates of variances\n",
    "r = np.array([0.2, 0.2, 0.2, 0.2])        # relative errors on errors\n",
    "x = np.array([1., 2., 3., 4.])            # arbitrary x coord. for measurements"
   ]
  },
  {
   "cell_type": "code",
   "execution_count": null,
   "id": "150af0a5",
   "metadata": {},
   "outputs": [],
   "source": [
    "# Define function to be minimized\n",
    "class NegLogL:\n",
    "\n",
    "    def __init__(self, y, s, r):\n",
    "        self.setData(y, s, r)\n",
    "        \n",
    "    def setData(self, y, s, r):\n",
    "        self.data = y, s, r\n",
    "\n",
    "    def __call__(self, mu):\n",
    "        y, s, r = self.data\n",
    "        v = s ** 2\n",
    "        lnf = -0.5*(1. + 1./(2.*r**2))*np.log(1. + 2.*(r*(y-mu))**2/v)\n",
    "        return -np.sum(lnf)"
   ]
  },
  {
   "cell_type": "code",
   "execution_count": null,
   "id": "add98882",
   "metadata": {},
   "outputs": [],
   "source": [
    "# Initialize Minuit and set up fit:\n",
    "negLogL = NegLogL(y, s, r)          # instantiate function to be minimized\n",
    "parin     = np.array([mu])          # initial values\n",
    "parname = ['mu']\n",
    "parstep = np.array([0.5])           # initial setp sizes\n",
    "parfix  = [False]                   # change these to fix/free parameters\n",
    "parlim  = [(None, None)]\n",
    "m = Minuit(negLogL, parin, name=parname)\n",
    "m.errors = parstep\n",
    "m.fixed = parfix\n",
    "m.limits = parlim\n",
    "m.errordef = 0.5                           # errors from lnL = lnLmax - 0.5"
   ]
  },
  {
   "cell_type": "code",
   "execution_count": null,
   "id": "7f629d63",
   "metadata": {},
   "outputs": [],
   "source": [
    "# do the fit, extract results\n",
    "m.migrad()                                        # minimize -logL\n",
    "MLE = m.values                                    # max-likelihood estimates\n",
    "sigmaMLE = m.errors                               # standard deviations\n",
    "cov = m.covariance                                # covariance matrix\n",
    "rho = m.covariance.correlation()                  # correlation coeffs.\n",
    "muHat = MLE[0]\n",
    "sigma_muHat = sigmaMLE[0]\n",
    "\n",
    "print(r\"par index, name, estimate, standard deviation:\")\n",
    "for i in range(m.npar):\n",
    "    if not m.fixed[i]:\n",
    "        print(\"{:4d}\".format(i), \"{:<10s}\".format(m.parameters[i]), \" = \",\n",
    "         \"{:.6f}\".format(MLE[i]), \" +/- \", \"{:.6f}\".format(sigmaMLE[i]))"
   ]
  },
  {
   "cell_type": "code",
   "execution_count": null,
   "id": "07d791e7",
   "metadata": {},
   "outputs": [],
   "source": [
    "# Make scan of -lnL\n",
    "if not m.fixed[\"mu\"]:\n",
    "    plt.figure()\n",
    "    m.draw_mnprofile('mu', band=False, bound=(muHat-3.*sigma_muHat, muHat+3.*sigma_muHat), size=200)\n",
    "    plt.show()"
   ]
  },
  {
   "cell_type": "code",
   "execution_count": null,
   "id": "28a27e06",
   "metadata": {},
   "outputs": [],
   "source": [
    "# Plot fit\n",
    "fig, ax = plt.subplots(1,1)\n",
    "plt.errorbar(x, y, yerr=s, xerr=0, color='black', fmt='o', label='measured data')\n",
    "plt.xlabel(r'measurement number')\n",
    "plt.ylabel(r'$y$', labelpad=5)\n",
    "xMin = 1.e-4\n",
    "xMax = 5. - 1.e-4\n",
    "yMin = 0.\n",
    "yMax = 26.\n",
    "plt.xlim(xMin, xMax)\n",
    "plt.ylim(yMin, yMax)\n",
    "xPlot = np.array([xMin, xMax])\n",
    "fit = np.array([muHat, muHat])\n",
    "plotLabel = r'$\\hat{\\mu} = ' + '{:.2f}'.format(muHat) + '\\pm' + '{:.2f}'.format(sigma_muHat) + '$'\n",
    "plt.plot(xPlot, fit, 'orange', linewidth=2, label=plotLabel)\n",
    "fitUp = np.array([muHat+sigma_muHat, muHat+sigma_muHat])\n",
    "fitLo = np.array([muHat-sigma_muHat, muHat-sigma_muHat])\n",
    "plt.fill_between(xPlot, fitLo, fitUp, color='dodgerblue', alpha=0.2)\n",
    "plt.subplots_adjust(left=0.15, right=0.9, top=0.9, bottom=0.15)\n",
    "handles, labels = ax.get_legend_handles_labels()  # Tweak legend\n",
    "handles = [handles[1], handles[0]]\n",
    "labels = [labels[1], labels[0]]\n",
    "handles = [handles[0][0], handles[1]]    # turn off error bar for data in legend\n",
    "plt.legend(handles, labels, loc='lower left', fontsize=14, frameon=False)\n",
    "plt.show()"
   ]
  },
  {
   "cell_type": "code",
   "execution_count": null,
   "id": "f1197fcb",
   "metadata": {},
   "outputs": [],
   "source": []
  }
 ],
 "metadata": {
  "kernelspec": {
   "display_name": "Python 3 (ipykernel)",
   "language": "python",
   "name": "python3"
  },
  "language_info": {
   "codemirror_mode": {
    "name": "ipython",
    "version": 3
   },
   "file_extension": ".py",
   "mimetype": "text/x-python",
   "name": "python",
   "nbconvert_exporter": "python",
   "pygments_lexer": "ipython3",
   "version": "3.8.15"
  }
 },
 "nbformat": 4,
 "nbformat_minor": 5
}
